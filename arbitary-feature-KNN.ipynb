{
  "nbformat": 4,
  "nbformat_minor": 0,
  "metadata": {
    "colab": {
      "provenance": [],
      "authorship_tag": "ABX9TyMEV2JjOIm8w8RaRSE3JatJ",
      "include_colab_link": true
    },
    "kernelspec": {
      "name": "python3",
      "display_name": "Python 3"
    },
    "language_info": {
      "name": "python"
    }
  },
  "cells": [
    {
      "cell_type": "markdown",
      "metadata": {
        "id": "view-in-github",
        "colab_type": "text"
      },
      "source": [
        "<a href=\"https://colab.research.google.com/github/karkisuraj/lab4-Suraj-karki/blob/main/arbitary-feature-KNN.ipynb\" target=\"_parent\"><img src=\"https://colab.research.google.com/assets/colab-badge.svg\" alt=\"Open In Colab\"/></a>"
      ]
    },
    {
      "cell_type": "code",
      "execution_count": 2,
      "metadata": {
        "colab": {
          "base_uri": "https://localhost:8080/"
        },
        "id": "zMTqGIvZatK7",
        "outputId": "83666557-83b4-4391-f0ca-d130f65b89d4"
      },
      "outputs": [
        {
          "output_type": "stream",
          "name": "stdout",
          "text": [
            "Enter Feature1: 3\n",
            "Enter Feature2: 4\n",
            "Enter value of k: 3\n",
            "\n",
            "Nearest Neighbors:\n",
            "Index: 1, Distance: 1.41, Label: Class A\n",
            "Index: 3, Distance: 2.24, Label: Class B\n",
            "Index: 2, Distance: 3.00, Label: Class B\n",
            "\n",
            "Predicted Class: Class B\n"
          ]
        },
        {
          "output_type": "stream",
          "name": "stderr",
          "text": [
            "/tmp/ipython-input-2-3718009458.py:22: FutureWarning: Series.__getitem__ treating keys as positions is deprecated. In a future version, integer keys will always be treated as labels (consistent with DataFrame behavior). To access a value by position, use `ser.iloc[pos]`\n",
            "  dist = math.sqrt(sum((row_features[j] - query[j]) ** 2 for j in range(len(features))))\n"
          ]
        }
      ],
      "source": [
        "import math\n",
        "from collections import Counter\n",
        "import pandas as pd\n",
        "from io import StringIO\n",
        "\n",
        "csv_data = \"\"\"ID,Feature1,Feature2,Label\n",
        "1,6,2,Class A\n",
        "2,2,3,Class A\n",
        "3,3,1,Class B\n",
        "4,5,5,Class B\n",
        "\"\"\"\n",
        "\n",
        "df = pd.read_csv(StringIO(csv_data))\n",
        "\n",
        "features = df.columns[1:-1]\n",
        "label_col = df.columns[-1]\n",
        "\n",
        "def get_neighbors(df, query, k):\n",
        "    distances = []\n",
        "    for i, row in df.iterrows():\n",
        "        row_features = row[features]\n",
        "        dist = math.sqrt(sum((row_features[j] - query[j]) ** 2 for j in range(len(features))))\n",
        "        distances.append((dist, i))\n",
        "    distances.sort(key=lambda x: x[0])\n",
        "    return distances[:k]\n",
        "\n",
        "def get_prediction(df, neighbors):\n",
        "    labels = [df.iloc[i][label_col] for _, i in neighbors]\n",
        "    return Counter(labels).most_common(1)[0][0]\n",
        "\n",
        "query = [float(input(f\"Enter {col}: \")) for col in features]\n",
        "k = int(input(\"Enter value of k: \"))\n",
        "\n",
        "neighbors = get_neighbors(df, query, k)\n",
        "\n",
        "print(\"\\nNearest Neighbors:\")\n",
        "for dist, idx in neighbors:\n",
        "    print(f\"Index: {idx}, Distance: {dist:.2f}, Label: {df.iloc[idx][label_col]}\")\n",
        "\n",
        "prediction = get_prediction(df, neighbors)\n",
        "print(f\"\\nPredicted Class: {prediction}\")\n",
        ""
      ]
    }
  ]
}